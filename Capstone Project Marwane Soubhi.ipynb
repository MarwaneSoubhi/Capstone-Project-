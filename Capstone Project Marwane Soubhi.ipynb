{
 "cells": [
  {
   "cell_type": "markdown",
   "id": "c329c358",
   "metadata": {},
   "source": [
    "#  Video Game Sales EDA & Regression Project\n",
    "\n",
    "This notebook explores the video game sales dataset and sets the stage for a regression model to predict global sales."
   ]
  },
  {
   "cell_type": "code",
   "execution_count": 65,
   "id": "aebe0231",
   "metadata": {},
   "outputs": [],
   "source": [
    "# Import libraries\n",
    "import pandas as pd\n",
    "import matplotlib.pyplot as plt\n",
    "import seaborn as sns\n",
    "import numpy as np"
   ]
  },
  {
   "cell_type": "code",
   "execution_count": 67,
   "id": "c427d4f0",
   "metadata": {},
   "outputs": [],
   "source": [
    "# Load the dataset\n",
    "df = pd.read_csv(\"../Data/Video_Games_Sales_as_at_22_Dec_2016.csv\")"
   ]
  },
  {
   "cell_type": "markdown",
   "id": "c2f65cf4-c75a-4a11-acd2-6915b7e75dd3",
   "metadata": {},
   "source": [
    "# Exploratory Data Analysis"
   ]
  },
  {
   "cell_type": "code",
   "execution_count": 15,
   "id": "34181de6",
   "metadata": {},
   "outputs": [
    {
     "name": "stdout",
     "output_type": "stream",
     "text": [
      "\n",
      "Shape of dataset: (16719, 16)\n"
     ]
    },
    {
     "data": {
      "text/html": [
       "<div>\n",
       "<style scoped>\n",
       "    .dataframe tbody tr th:only-of-type {\n",
       "        vertical-align: middle;\n",
       "    }\n",
       "\n",
       "    .dataframe tbody tr th {\n",
       "        vertical-align: top;\n",
       "    }\n",
       "\n",
       "    .dataframe thead th {\n",
       "        text-align: right;\n",
       "    }\n",
       "</style>\n",
       "<table border=\"1\" class=\"dataframe\">\n",
       "  <thead>\n",
       "    <tr style=\"text-align: right;\">\n",
       "      <th></th>\n",
       "      <th>Name</th>\n",
       "      <th>Platform</th>\n",
       "      <th>Year_of_Release</th>\n",
       "      <th>Genre</th>\n",
       "      <th>Publisher</th>\n",
       "      <th>NA_Sales</th>\n",
       "      <th>EU_Sales</th>\n",
       "      <th>JP_Sales</th>\n",
       "      <th>Other_Sales</th>\n",
       "      <th>Global_Sales</th>\n",
       "      <th>Critic_Score</th>\n",
       "      <th>Critic_Count</th>\n",
       "      <th>User_Score</th>\n",
       "      <th>User_Count</th>\n",
       "      <th>Developer</th>\n",
       "      <th>Rating</th>\n",
       "    </tr>\n",
       "  </thead>\n",
       "  <tbody>\n",
       "    <tr>\n",
       "      <th>0</th>\n",
       "      <td>Wii Sports</td>\n",
       "      <td>Wii</td>\n",
       "      <td>2006.0</td>\n",
       "      <td>Sports</td>\n",
       "      <td>Nintendo</td>\n",
       "      <td>41.36</td>\n",
       "      <td>28.96</td>\n",
       "      <td>3.77</td>\n",
       "      <td>8.45</td>\n",
       "      <td>82.53</td>\n",
       "      <td>76.0</td>\n",
       "      <td>51.0</td>\n",
       "      <td>8</td>\n",
       "      <td>322.0</td>\n",
       "      <td>Nintendo</td>\n",
       "      <td>E</td>\n",
       "    </tr>\n",
       "    <tr>\n",
       "      <th>1</th>\n",
       "      <td>Super Mario Bros.</td>\n",
       "      <td>NES</td>\n",
       "      <td>1985.0</td>\n",
       "      <td>Platform</td>\n",
       "      <td>Nintendo</td>\n",
       "      <td>29.08</td>\n",
       "      <td>3.58</td>\n",
       "      <td>6.81</td>\n",
       "      <td>0.77</td>\n",
       "      <td>40.24</td>\n",
       "      <td>NaN</td>\n",
       "      <td>NaN</td>\n",
       "      <td>NaN</td>\n",
       "      <td>NaN</td>\n",
       "      <td>NaN</td>\n",
       "      <td>NaN</td>\n",
       "    </tr>\n",
       "    <tr>\n",
       "      <th>2</th>\n",
       "      <td>Mario Kart Wii</td>\n",
       "      <td>Wii</td>\n",
       "      <td>2008.0</td>\n",
       "      <td>Racing</td>\n",
       "      <td>Nintendo</td>\n",
       "      <td>15.68</td>\n",
       "      <td>12.76</td>\n",
       "      <td>3.79</td>\n",
       "      <td>3.29</td>\n",
       "      <td>35.52</td>\n",
       "      <td>82.0</td>\n",
       "      <td>73.0</td>\n",
       "      <td>8.3</td>\n",
       "      <td>709.0</td>\n",
       "      <td>Nintendo</td>\n",
       "      <td>E</td>\n",
       "    </tr>\n",
       "    <tr>\n",
       "      <th>3</th>\n",
       "      <td>Wii Sports Resort</td>\n",
       "      <td>Wii</td>\n",
       "      <td>2009.0</td>\n",
       "      <td>Sports</td>\n",
       "      <td>Nintendo</td>\n",
       "      <td>15.61</td>\n",
       "      <td>10.93</td>\n",
       "      <td>3.28</td>\n",
       "      <td>2.95</td>\n",
       "      <td>32.77</td>\n",
       "      <td>80.0</td>\n",
       "      <td>73.0</td>\n",
       "      <td>8</td>\n",
       "      <td>192.0</td>\n",
       "      <td>Nintendo</td>\n",
       "      <td>E</td>\n",
       "    </tr>\n",
       "    <tr>\n",
       "      <th>4</th>\n",
       "      <td>Pokemon Red/Pokemon Blue</td>\n",
       "      <td>GB</td>\n",
       "      <td>1996.0</td>\n",
       "      <td>Role-Playing</td>\n",
       "      <td>Nintendo</td>\n",
       "      <td>11.27</td>\n",
       "      <td>8.89</td>\n",
       "      <td>10.22</td>\n",
       "      <td>1.00</td>\n",
       "      <td>31.37</td>\n",
       "      <td>NaN</td>\n",
       "      <td>NaN</td>\n",
       "      <td>NaN</td>\n",
       "      <td>NaN</td>\n",
       "      <td>NaN</td>\n",
       "      <td>NaN</td>\n",
       "    </tr>\n",
       "  </tbody>\n",
       "</table>\n",
       "</div>"
      ],
      "text/plain": [
       "                       Name Platform  Year_of_Release         Genre Publisher  \\\n",
       "0                Wii Sports      Wii           2006.0        Sports  Nintendo   \n",
       "1         Super Mario Bros.      NES           1985.0      Platform  Nintendo   \n",
       "2            Mario Kart Wii      Wii           2008.0        Racing  Nintendo   \n",
       "3         Wii Sports Resort      Wii           2009.0        Sports  Nintendo   \n",
       "4  Pokemon Red/Pokemon Blue       GB           1996.0  Role-Playing  Nintendo   \n",
       "\n",
       "   NA_Sales  EU_Sales  JP_Sales  Other_Sales  Global_Sales  Critic_Score  \\\n",
       "0     41.36     28.96      3.77         8.45         82.53          76.0   \n",
       "1     29.08      3.58      6.81         0.77         40.24           NaN   \n",
       "2     15.68     12.76      3.79         3.29         35.52          82.0   \n",
       "3     15.61     10.93      3.28         2.95         32.77          80.0   \n",
       "4     11.27      8.89     10.22         1.00         31.37           NaN   \n",
       "\n",
       "   Critic_Count User_Score  User_Count Developer Rating  \n",
       "0          51.0          8       322.0  Nintendo      E  \n",
       "1           NaN        NaN         NaN       NaN    NaN  \n",
       "2          73.0        8.3       709.0  Nintendo      E  \n",
       "3          73.0          8       192.0  Nintendo      E  \n",
       "4           NaN        NaN         NaN       NaN    NaN  "
      ]
     },
     "execution_count": 15,
     "metadata": {},
     "output_type": "execute_result"
    }
   ],
   "source": [
    "#: Quick look at the data\n",
    "print(\"\\nShape of dataset:\", df.shape)\n",
    "df.head()"
   ]
  },
  {
   "cell_type": "markdown",
   "id": "1efa4d64-8280-42e3-bca7-006c788bbbb9",
   "metadata": {},
   "source": [
    "The dataset contains over 16,000 rows and 16 columns related to video game metadata and sales"
   ]
  },
  {
   "cell_type": "markdown",
   "id": "e5a6cf1e-51d3-4aef-b8c8-ab19820fe22a",
   "metadata": {},
   "source": [
    "### Lets see what type of data we a re working with  and they are any missing values. "
   ]
  },
  {
   "cell_type": "code",
   "execution_count": 17,
   "id": "f0ce2a5a",
   "metadata": {},
   "outputs": [
    {
     "name": "stdout",
     "output_type": "stream",
     "text": [
      "<class 'pandas.core.frame.DataFrame'>\n",
      "RangeIndex: 16719 entries, 0 to 16718\n",
      "Data columns (total 16 columns):\n",
      " #   Column           Non-Null Count  Dtype  \n",
      "---  ------           --------------  -----  \n",
      " 0   Name             16717 non-null  object \n",
      " 1   Platform         16719 non-null  object \n",
      " 2   Year_of_Release  16450 non-null  float64\n",
      " 3   Genre            16717 non-null  object \n",
      " 4   Publisher        16665 non-null  object \n",
      " 5   NA_Sales         16719 non-null  float64\n",
      " 6   EU_Sales         16719 non-null  float64\n",
      " 7   JP_Sales         16719 non-null  float64\n",
      " 8   Other_Sales      16719 non-null  float64\n",
      " 9   Global_Sales     16719 non-null  float64\n",
      " 10  Critic_Score     8137 non-null   float64\n",
      " 11  Critic_Count     8137 non-null   float64\n",
      " 12  User_Score       10015 non-null  object \n",
      " 13  User_Count       7590 non-null   float64\n",
      " 14  Developer        10096 non-null  object \n",
      " 15  Rating           9950 non-null   object \n",
      "dtypes: float64(9), object(7)\n",
      "memory usage: 2.0+ MB\n"
     ]
    }
   ],
   "source": [
    "# Data info (to check missing values and types)\n",
    "df.info()"
   ]
  },
  {
   "cell_type": "code",
   "execution_count": 71,
   "id": "a47bb60e-d894-4bd2-8665-553db5e2a12e",
   "metadata": {},
   "outputs": [
    {
     "data": {
      "text/plain": [
       "Name                  2\n",
       "Platform              0\n",
       "Year_of_Release     269\n",
       "Genre                 2\n",
       "Publisher            54\n",
       "NA_Sales              0\n",
       "EU_Sales              0\n",
       "JP_Sales              0\n",
       "Other_Sales           0\n",
       "Global_Sales          0\n",
       "Critic_Score       8582\n",
       "Critic_Count       8582\n",
       "User_Score         6704\n",
       "User_Count         9129\n",
       "Developer          6623\n",
       "Rating             6769\n",
       "dtype: int64"
      ]
     },
     "execution_count": 71,
     "metadata": {},
     "output_type": "execute_result"
    }
   ],
   "source": [
    "df.isnull().sum()"
   ]
  },
  {
   "cell_type": "markdown",
   "id": "0e288f5c-d975-4662-98ce-1c58e9e2aff3",
   "metadata": {},
   "source": [
    "The numerical columns are how it supposed to be, and categorical columns are object (execpt for Users_score and Rating). \n",
    "\n",
    "Most of our missing values are past the 10th columns ('Global Sales').  \n",
    "\n",
    "Since global sales is gonna be our target, we dont want to keep (at least for now  columns with too much missing values)."
   ]
  },
  {
   "cell_type": "code",
   "execution_count": 79,
   "id": "14c02e37-a6ef-4cce-809e-62fbc18038a2",
   "metadata": {},
   "outputs": [
    {
     "data": {
      "text/plain": [
       "Name                  0\n",
       "Platform              0\n",
       "Year_of_Release       0\n",
       "Genre                 0\n",
       "Publisher            32\n",
       "NA_Sales              0\n",
       "EU_Sales              0\n",
       "JP_Sales              0\n",
       "Other_Sales           0\n",
       "Global_Sales          0\n",
       "Critic_Score       8465\n",
       "Critic_Count       8465\n",
       "User_Score         6608\n",
       "User_Count         8985\n",
       "Developer          6541\n",
       "Rating             6679\n",
       "dtype: int64"
      ]
     },
     "execution_count": 79,
     "metadata": {},
     "output_type": "execute_result"
    }
   ],
   "source": [
    "#Drop rows where 'Global_sales' is missing \n",
    "df = df.dropna(subset=['Global_Sales'])\n",
    "\n",
    "# Drop rows where 'Year_of_sales' and 'Genre' is missing \n",
    "df = df.dropna(subset=['Year_of_Release', 'Genre'])\n",
    "\n",
    "df.isnull().sum()"
   ]
  },
  {
   "cell_type": "markdown",
   "id": "1eaff646-33d1-4447-a0a6-5fc5ff376083",
   "metadata": {},
   "source": [
    "#### Now lets fix the User_score columns "
   ]
  },
  {
   "cell_type": "code",
   "execution_count": 93,
   "id": "1ea61b16-7e0d-45af-86fc-a941a525fbe3",
   "metadata": {},
   "outputs": [
    {
     "data": {
      "text/plain": [
       "dtype('float64')"
      ]
     },
     "execution_count": 93,
     "metadata": {},
     "output_type": "execute_result"
    }
   ],
   "source": [
    "df['User_Score'] = pd.to_numeric(df['User_Score'], errors='coerce')\n",
    "df['User_Score'].dtype"
   ]
  },
  {
   "cell_type": "markdown",
   "id": "f3bd925f-1076-48e9-bf43-d42e47d38e1c",
   "metadata": {},
   "source": [
    "### So we gonna try to focus on the sales and see how each market react \n",
    "\n",
    "Here the idea is gonna be to see if a game works well in a market (NA) it's likely to work well in an other market. So let's dive in the sales by Genre by region. "
   ]
  },
  {
   "cell_type": "code",
   "execution_count": 99,
   "id": "4d6c3f31-24a9-43da-99b1-9fbb88e5ae94",
   "metadata": {},
   "outputs": [
    {
     "data": {
      "image/png": "[encoded data removed]",
      "text/plain": [
       "<Figure size 800x600 with 2 Axes>"
      ]
     },
     "metadata": {},
     "output_type": "display_data"
    }
   ],
   "source": [
    "#lets start with a heatmap \n",
    "plt.figure(figsize=(8,6))\n",
    "sales_corr = df[[\"NA_Sales\", \"EU_Sales\", \"JP_Sales\", \"Other_Sales\", \"Global_Sales\"]].corr()\n",
    "sns.heatmap(sales_corr, annot=True, cmap=\"coolwarm\")\n",
    "plt.title(\"Correlation Between Sales by Region\")\n",
    "plt.show()"
   ]
  },
  {
   "cell_type": "markdown",
   "id": "c477ee7c-8326-4366-86c2-24fc7557aa1b",
   "metadata": {},
   "source": [
    "We can se here that NA_sales and EU_sales are highly correlated to Global_sales, but JP_sales behave a little differently. "
   ]
  },
  {
   "cell_type": "code",
   "execution_count": 102,
   "id": "3e769641-92f0-4a27-b538-3de4b9ebea70",
   "metadata": {},
   "outputs": [
    {
     "name": "stderr",
     "output_type": "stream",
     "text": [
      "C:\\Users\\REBUILD\\AppData\\Local\\Temp\\ipykernel_186732\\1787973732.py:4: FutureWarning: \n",
      "\n",
      "Passing `palette` without assigning `hue` is deprecated and will be removed in v0.14.0. Assign the `x` variable to `hue` and set `legend=False` for the same effect.\n",
      "\n",
      "  sns.barplot(x=genre_sales.index, y=genre_sales.values, palette='viridis')\n"
     ]
    },
    {
     "data": {
      "image/png": "[encoded data removed]",
      "text/plain": [
       "<Figure size 1200x600 with 1 Axes>"
      ]
     },
     "metadata": {},
     "output_type": "display_data"
    }
   ],
   "source": [
    "#Global Sales by genre \n",
    "plt.figure(figsize=(12,6))\n",
    "genre_sales = df.groupby('Genre')['Global_Sales'].sum().sort_values(ascending=False)\n",
    "sns.barplot(x=genre_sales.index, y=genre_sales.values, palette='viridis')\n",
    "plt.title(\"Total Global Sales by Genre\")\n",
    "plt.ylabel(\"Global Sales (Millions)\")\n",
    "plt.xticks(rotation=45)\n",
    "plt.show()"
   ]
  },
  {
   "cell_type": "markdown",
   "id": "ef99166f-150e-431a-8e0d-d60272fdf09b",
   "metadata": {},
   "source": [
    "The most popular genre in all market combined (Global_sales) are Action, Sports, Shooter and Role-Playing. \n",
    "\n",
    "It would be interesting to see now, the most popular Genre for each market. \n"
   ]
  },
  {
   "cell_type": "markdown",
   "id": "be90e53a-a2ae-4e83-a0fb-e2131bd609c6",
   "metadata": {},
   "source": [
    "## NA most popular Genre "
   ]
  },
  {
   "cell_type": "code",
   "execution_count": 112,
   "id": "16a63784-5223-46f2-bb93-9e17221938ee",
   "metadata": {},
   "outputs": [
    {
     "name": "stderr",
     "output_type": "stream",
     "text": [
      "C:\\Users\\REBUILD\\AppData\\Local\\Temp\\ipykernel_186732\\2497348320.py:4: FutureWarning: \n",
      "\n",
      "Passing `palette` without assigning `hue` is deprecated and will be removed in v0.14.0. Assign the `x` variable to `hue` and set `legend=False` for the same effect.\n",
      "\n",
      "  sns.barplot(x=genre_sales_na.index, y=genre_sales_na.values, palette=\"viridis\")\n"
     ]
    },
    {
     "data": {
      "image/png": "[encoded data removed]",
      "text/plain": [
       "<Figure size 1000x500 with 1 Axes>"
      ]
     },
     "metadata": {},
     "output_type": "display_data"
    }
   ],
   "source": [
    "# NA most popular Genre \n",
    "plt.figure(figsize=(10,5))\n",
    "genre_sales_na = df.groupby(\"Genre\")[\"NA_Sales\"].sum().sort_values(ascending=False)\n",
    "sns.barplot(x=genre_sales_na.index, y=genre_sales_na.values, palette=\"viridis\")\n",
    "plt.title(\"Top Genres in North America\")\n",
    "plt.ylabel(\"NA Sales (Millions)\")\n",
    "plt.xticks(rotation=45)\n",
    "plt.show()"
   ]
  },
  {
   "cell_type": "markdown",
   "id": "d7eaa551-9bca-4840-9640-bc1b90d577d7",
   "metadata": {},
   "source": [
    "## EU Most popular genre "
   ]
  },
  {
   "cell_type": "code",
   "execution_count": 116,
   "id": "f3e47f78-a0bd-4d71-92e8-d5f608da6d91",
   "metadata": {},
   "outputs": [
    {
     "name": "stderr",
     "output_type": "stream",
     "text": [
      "C:\\Users\\REBUILD\\AppData\\Local\\Temp\\ipykernel_186732\\1285755320.py:4: FutureWarning: \n",
      "\n",
      "Passing `palette` without assigning `hue` is deprecated and will be removed in v0.14.0. Assign the `x` variable to `hue` and set `legend=False` for the same effect.\n",
      "\n",
      "  sns.barplot(x=genre_sales_eu.index, y=genre_sales_eu.values, palette=\"Purples_d\")\n"
     ]
    },
    {
     "data": {
      "image/png": "[encoded data removed]",
      "text/plain": [
       "<Figure size 1000x500 with 1 Axes>"
      ]
     },
     "metadata": {},
     "output_type": "display_data"
    }
   ],
   "source": [
    "# Most popular genres in Europe\n",
    "plt.figure(figsize=(10,5))\n",
    "genre_sales_eu = df.groupby(\"Genre\")[\"EU_Sales\"].sum().sort_values(ascending=False)\n",
    "sns.barplot(x=genre_sales_eu.index, y=genre_sales_eu.values, palette=\"Purples_d\")\n",
    "plt.title(\"Top Genres in Europe\")\n",
    "plt.ylabel(\"EU Sales (Millions)\")\n",
    "plt.xticks(rotation=45)\n",
    "plt.show()"
   ]
  },
  {
   "cell_type": "markdown",
   "id": "92f97ac1-dd48-4145-a6bf-d71406dd3f8b",
   "metadata": {},
   "source": [
    "## Japan Most popular Genre \n"
   ]
  },
  {
   "cell_type": "code",
   "execution_count": 119,
   "id": "1bbe4a8c-59ef-43ab-be4c-9fdc4efd8a63",
   "metadata": {},
   "outputs": [
    {
     "name": "stderr",
     "output_type": "stream",
     "text": [
      "C:\\Users\\REBUILD\\AppData\\Local\\Temp\\ipykernel_186732\\1793565094.py:4: FutureWarning: \n",
      "\n",
      "Passing `palette` without assigning `hue` is deprecated and will be removed in v0.14.0. Assign the `x` variable to `hue` and set `legend=False` for the same effect.\n",
      "\n",
      "  sns.barplot(x=genre_sales_jp.index, y=genre_sales_jp.values, palette=\"Reds_d\")\n"
     ]
    },
    {
     "data": {
      "image/png": "[encoded data removed]",
      "text/plain": [
       "<Figure size 1000x500 with 1 Axes>"
      ]
     },
     "metadata": {},
     "output_type": "display_data"
    }
   ],
   "source": [
    "# Most popular genres in Japan\n",
    "plt.figure(figsize=(10,5))\n",
    "genre_sales_jp = df.groupby(\"Genre\")[\"JP_Sales\"].sum().sort_values(ascending=False)\n",
    "sns.barplot(x=genre_sales_jp.index, y=genre_sales_jp.values, palette=\"Reds_d\")\n",
    "plt.title(\"Top Genres in Japan\")\n",
    "plt.ylabel(\"JP Sales (Millions)\")\n",
    "plt.xticks(rotation=45)\n",
    "plt.show()"
   ]
  },
  {
   "cell_type": "markdown",
   "id": "622a4854-f681-49fd-8bff-44abe17e6ab6",
   "metadata": {},
   "source": [
    "## Other Region Most Popular Genre "
   ]
  },
  {
   "cell_type": "code",
   "execution_count": 123,
   "id": "adc4ab38-6c20-43cf-baa4-0838d60c0708",
   "metadata": {},
   "outputs": [
    {
     "name": "stderr",
     "output_type": "stream",
     "text": [
      "C:\\Users\\REBUILD\\AppData\\Local\\Temp\\ipykernel_186732\\649025624.py:4: FutureWarning: \n",
      "\n",
      "Passing `palette` without assigning `hue` is deprecated and will be removed in v0.14.0. Assign the `x` variable to `hue` and set `legend=False` for the same effect.\n",
      "\n",
      "  sns.barplot(x=genre_sales_other.index, y=genre_sales_other.values, palette=\"Greens_d\")\n"
     ]
    },
    {
     "data": {
      "image/png": "[encoded data removed]",
      "text/plain": [
       "<Figure size 1000x500 with 1 Axes>"
      ]
     },
     "metadata": {},
     "output_type": "display_data"
    }
   ],
   "source": [
    "# Most popular genres in Other Regions\n",
    "plt.figure(figsize=(10,5))\n",
    "genre_sales_other = df.groupby(\"Genre\")[\"Other_Sales\"].sum().sort_values(ascending=False)\n",
    "sns.barplot(x=genre_sales_other.index, y=genre_sales_other.values, palette=\"Greens_d\")\n",
    "plt.title(\"Top Genres in Other Regions\")\n",
    "plt.ylabel(\"Other Sales (Millions)\")\n",
    "plt.xticks(rotation=45)\n",
    "plt.show()\n"
   ]
  },
  {
   "cell_type": "markdown",
   "id": "81ffe977-4295-4873-928e-65743df6f871",
   "metadata": {},
   "source": [
    "### Summary Genre by region "
   ]
  },
  {
   "cell_type": "code",
   "execution_count": 126,
   "id": "038501d6-9496-4df2-8026-757eeed7df32",
   "metadata": {},
   "outputs": [
    {
     "data": {
      "text/html": [
       "<div>\n",
       "<style scoped>\n",
       "    .dataframe tbody tr th:only-of-type {\n",
       "        vertical-align: middle;\n",
       "    }\n",
       "\n",
       "    .dataframe tbody tr th {\n",
       "        vertical-align: top;\n",
       "    }\n",
       "\n",
       "    .dataframe thead th {\n",
       "        text-align: right;\n",
       "    }\n",
       "</style>\n",
       "<table border=\"1\" class=\"dataframe\">\n",
       "  <thead>\n",
       "    <tr style=\"text-align: right;\">\n",
       "      <th></th>\n",
       "      <th>NA_Sales</th>\n",
       "      <th>EU_Sales</th>\n",
       "      <th>JP_Sales</th>\n",
       "      <th>Other_Sales</th>\n",
       "    </tr>\n",
       "    <tr>\n",
       "      <th>Genre</th>\n",
       "      <th></th>\n",
       "      <th></th>\n",
       "      <th></th>\n",
       "      <th></th>\n",
       "    </tr>\n",
       "  </thead>\n",
       "  <tbody>\n",
       "    <tr>\n",
       "      <th>Action</th>\n",
       "      <td>863.17</td>\n",
       "      <td>510.99</td>\n",
       "      <td>160.15</td>\n",
       "      <td>182.22</td>\n",
       "    </tr>\n",
       "    <tr>\n",
       "      <th>Sports</th>\n",
       "      <td>671.20</td>\n",
       "      <td>371.33</td>\n",
       "      <td>134.93</td>\n",
       "      <td>132.21</td>\n",
       "    </tr>\n",
       "    <tr>\n",
       "      <th>Shooter</th>\n",
       "      <td>584.83</td>\n",
       "      <td>314.52</td>\n",
       "      <td>38.68</td>\n",
       "      <td>103.33</td>\n",
       "    </tr>\n",
       "    <tr>\n",
       "      <th>Platform</th>\n",
       "      <td>444.44</td>\n",
       "      <td>199.39</td>\n",
       "      <td>130.71</td>\n",
       "      <td>51.01</td>\n",
       "    </tr>\n",
       "    <tr>\n",
       "      <th>Misc</th>\n",
       "      <td>399.57</td>\n",
       "      <td>210.60</td>\n",
       "      <td>107.02</td>\n",
       "      <td>73.10</td>\n",
       "    </tr>\n",
       "    <tr>\n",
       "      <th>Racing</th>\n",
       "      <td>356.86</td>\n",
       "      <td>234.49</td>\n",
       "      <td>56.63</td>\n",
       "      <td>75.51</td>\n",
       "    </tr>\n",
       "    <tr>\n",
       "      <th>Role-Playing</th>\n",
       "      <td>330.04</td>\n",
       "      <td>188.24</td>\n",
       "      <td>353.44</td>\n",
       "      <td>59.41</td>\n",
       "    </tr>\n",
       "    <tr>\n",
       "      <th>Fighting</th>\n",
       "      <td>220.51</td>\n",
       "      <td>99.00</td>\n",
       "      <td>87.28</td>\n",
       "      <td>35.87</td>\n",
       "    </tr>\n",
       "    <tr>\n",
       "      <th>Simulation</th>\n",
       "      <td>180.67</td>\n",
       "      <td>113.35</td>\n",
       "      <td>63.64</td>\n",
       "      <td>30.59</td>\n",
       "    </tr>\n",
       "    <tr>\n",
       "      <th>Puzzle</th>\n",
       "      <td>121.13</td>\n",
       "      <td>49.78</td>\n",
       "      <td>56.68</td>\n",
       "      <td>12.30</td>\n",
       "    </tr>\n",
       "    <tr>\n",
       "      <th>Adventure</th>\n",
       "      <td>101.52</td>\n",
       "      <td>63.20</td>\n",
       "      <td>52.24</td>\n",
       "      <td>16.37</td>\n",
       "    </tr>\n",
       "    <tr>\n",
       "      <th>Strategy</th>\n",
       "      <td>67.75</td>\n",
       "      <td>44.79</td>\n",
       "      <td>49.30</td>\n",
       "      <td>10.73</td>\n",
       "    </tr>\n",
       "  </tbody>\n",
       "</table>\n",
       "</div>"
      ],
      "text/plain": [
       "              NA_Sales  EU_Sales  JP_Sales  Other_Sales\n",
       "Genre                                                  \n",
       "Action          863.17    510.99    160.15       182.22\n",
       "Sports          671.20    371.33    134.93       132.21\n",
       "Shooter         584.83    314.52     38.68       103.33\n",
       "Platform        444.44    199.39    130.71        51.01\n",
       "Misc            399.57    210.60    107.02        73.10\n",
       "Racing          356.86    234.49     56.63        75.51\n",
       "Role-Playing    330.04    188.24    353.44        59.41\n",
       "Fighting        220.51     99.00     87.28        35.87\n",
       "Simulation      180.67    113.35     63.64        30.59\n",
       "Puzzle          121.13     49.78     56.68        12.30\n",
       "Adventure       101.52     63.20     52.24        16.37\n",
       "Strategy         67.75     44.79     49.30        10.73"
      ]
     },
     "execution_count": 126,
     "metadata": {},
     "output_type": "execute_result"
    }
   ],
   "source": [
    "# Group sales data by Genre and sum for each region\n",
    "genre_region = df.groupby(\"Genre\")[[\"NA_Sales\", \"EU_Sales\", \"JP_Sales\", \"Other_Sales\"]].sum()\n",
    "\n",
    "# Sort each column (optional, for display)\n",
    "genre_region = genre_region.sort_values(by=\"NA_Sales\", ascending=False)\n",
    "\n",
    "genre_region"
   ]
  },
  {
   "cell_type": "code",
   "execution_count": 136,
   "id": "712c7913-a202-49f0-9b9d-1a1ec7e7bb2a",
   "metadata": {},
   "outputs": [
    {
     "name": "stdout",
     "output_type": "stream",
     "text": [
      "Top genres in North America:\n",
      "          NA_Sales  EU_Sales  JP_Sales  Other_Sales\n",
      "Genre                                              \n",
      "Action      863.17    510.99    160.15       182.22\n",
      "Sports      671.20    371.33    134.93       132.21\n",
      "Shooter     584.83    314.52     38.68       103.33\n",
      "Platform    444.44    199.39    130.71        51.01\n",
      "Misc        399.57    210.60    107.02        73.10\n",
      "\n",
      "Top genres in Europe:\n",
      "         NA_Sales  EU_Sales  JP_Sales  Other_Sales\n",
      "Genre                                             \n",
      "Action     863.17    510.99    160.15       182.22\n",
      "Sports     671.20    371.33    134.93       132.21\n",
      "Shooter    584.83    314.52     38.68       103.33\n",
      "Racing     356.86    234.49     56.63        75.51\n",
      "Misc       399.57    210.60    107.02        73.10\n",
      "\n",
      "Top genres in Japan:\n",
      "              NA_Sales  EU_Sales  JP_Sales  Other_Sales\n",
      "Genre                                                  \n",
      "Role-Playing    330.04    188.24    353.44        59.41\n",
      "Action          863.17    510.99    160.15       182.22\n",
      "Sports          671.20    371.33    134.93       132.21\n",
      "Platform        444.44    199.39    130.71        51.01\n",
      "Misc            399.57    210.60    107.02        73.10\n",
      "\n",
      "Top genres in Other regions:\n",
      "         NA_Sales  EU_Sales  JP_Sales  Other_Sales\n",
      "Genre                                             \n",
      "Action     863.17    510.99    160.15       182.22\n",
      "Sports     671.20    371.33    134.93       132.21\n",
      "Shooter    584.83    314.52     38.68       103.33\n",
      "Racing     356.86    234.49     56.63        75.51\n",
      "Misc       399.57    210.60    107.02        73.10\n"
     ]
    }
   ],
   "source": [
    "# Top genres by NA sales\n",
    "print(\"Top genres in North America:\")\n",
    "print(genre_region.sort_values(by=\"NA_Sales\", ascending=False).head())\n",
    "\n",
    "# Top genres by EU sales\n",
    "print(\"\\nTop genres in Europe:\")\n",
    "print(genre_region.sort_values(by=\"EU_Sales\", ascending=False).head())\n",
    "\n",
    "# Top genres by JP sales\n",
    "print(\"\\nTop genres in Japan:\")\n",
    "print(genre_region.sort_values(by=\"JP_Sales\", ascending=False).head())\n",
    "\n",
    "# Top genres by Other sales\n",
    "print(\"\\nTop genres in Other regions:\")\n",
    "print(genre_region.sort_values(by=\"Other_Sales\", ascending=False).head())"
   ]
  },
  {
   "cell_type": "markdown",
   "id": "f46eeb64-4a05-4746-9d86-23ef3ccffd8b",
   "metadata": {},
   "source": [
    "Overall, Japan market behave differently from NA, EU and Other regions, having 'role-playing' as a dominant favorite genre. "
   ]
  },
  {
   "cell_type": "markdown",
   "id": "0d0f04dc-3937-41d9-9ec9-89eaeb35f7e8",
   "metadata": {},
   "source": [
    "We decided not to include the boxplot of Global Sales by Genre.\n",
    "\n",
    "While it can reveal the presence of outliers, it wasn't as insightful or visually clear for this dataset.\n",
    "The barplots and regional breakdowns gave us much more actionable insights about genre popularity and sales distribution."
   ]
  },
  {
   "cell_type": "markdown",
   "id": "f414a630-42f9-4dc5-aee8-13d472bb4ed9",
   "metadata": {},
   "source": [
    "## Model Building\n"
   ]
  },
  {
   "cell_type": "markdown",
   "id": "9480fc28-950e-456d-879b-ce2f0b6cfb44",
   "metadata": {},
   "source": [
    "In our case, we gonna use the Critic score, the user count to predict the global sales. \n",
    "\n",
    "Even if we have a lot a of missing values for those columns, if we drop them, we still have sufficient data to work it and build an efficient model. "
   ]
  },
  {
   "cell_type": "markdown",
   "id": "dc73fd57-8400-4265-96e4-23c10930a5e1",
   "metadata": {},
   "source": [
    "We gonna use Linear Regression model, as it's a simple model for interpretation and we can see the impact of each variable on the target. \n",
    "\n",
    "It's fast and can be used as a baseline to compare with an other model "
   ]
  },
  {
   "cell_type": "code",
   "execution_count": 149,
   "id": "11d5c7b5-6d97-4bfc-a74d-3b6213ccd193",
   "metadata": {},
   "outputs": [],
   "source": [
    "#Select the relevant features \n",
    "model_df = df[[\"Critic_Score\", \"User_Score\", \"Global_Sales\"]].dropna()"
   ]
  },
  {
   "cell_type": "code",
   "execution_count": 151,
   "id": "a73bf0dc-6684-4ce2-9c52-2236b3a2e149",
   "metadata": {},
   "outputs": [
    {
     "name": "stdout",
     "output_type": "stream",
     "text": [
      "<class 'pandas.core.frame.DataFrame'>\n",
      "Index: 6894 entries, 0 to 16709\n",
      "Data columns (total 3 columns):\n",
      " #   Column        Non-Null Count  Dtype  \n",
      "---  ------        --------------  -----  \n",
      " 0   Critic_Score  6894 non-null   float64\n",
      " 1   User_Score    6894 non-null   float64\n",
      " 2   Global_Sales  6894 non-null   float64\n",
      "dtypes: float64(3)\n",
      "memory usage: 215.4 KB\n"
     ]
    },
    {
     "data": {
      "text/html": [
       "<div>\n",
       "<style scoped>\n",
       "    .dataframe tbody tr th:only-of-type {\n",
       "        vertical-align: middle;\n",
       "    }\n",
       "\n",
       "    .dataframe tbody tr th {\n",
       "        vertical-align: top;\n",
       "    }\n",
       "\n",
       "    .dataframe thead th {\n",
       "        text-align: right;\n",
       "    }\n",
       "</style>\n",
       "<table border=\"1\" class=\"dataframe\">\n",
       "  <thead>\n",
       "    <tr style=\"text-align: right;\">\n",
       "      <th></th>\n",
       "      <th>Critic_Score</th>\n",
       "      <th>User_Score</th>\n",
       "      <th>Global_Sales</th>\n",
       "    </tr>\n",
       "  </thead>\n",
       "  <tbody>\n",
       "    <tr>\n",
       "      <th>count</th>\n",
       "      <td>6894.000000</td>\n",
       "      <td>6894.000000</td>\n",
       "      <td>6894.000000</td>\n",
       "    </tr>\n",
       "    <tr>\n",
       "      <th>mean</th>\n",
       "      <td>70.258486</td>\n",
       "      <td>7.184378</td>\n",
       "      <td>0.771487</td>\n",
       "    </tr>\n",
       "    <tr>\n",
       "      <th>std</th>\n",
       "      <td>13.861082</td>\n",
       "      <td>1.439806</td>\n",
       "      <td>1.954780</td>\n",
       "    </tr>\n",
       "    <tr>\n",
       "      <th>min</th>\n",
       "      <td>13.000000</td>\n",
       "      <td>0.500000</td>\n",
       "      <td>0.010000</td>\n",
       "    </tr>\n",
       "    <tr>\n",
       "      <th>25%</th>\n",
       "      <td>62.000000</td>\n",
       "      <td>6.500000</td>\n",
       "      <td>0.110000</td>\n",
       "    </tr>\n",
       "    <tr>\n",
       "      <th>50%</th>\n",
       "      <td>72.000000</td>\n",
       "      <td>7.500000</td>\n",
       "      <td>0.290000</td>\n",
       "    </tr>\n",
       "    <tr>\n",
       "      <th>75%</th>\n",
       "      <td>80.000000</td>\n",
       "      <td>8.200000</td>\n",
       "      <td>0.750000</td>\n",
       "    </tr>\n",
       "    <tr>\n",
       "      <th>max</th>\n",
       "      <td>98.000000</td>\n",
       "      <td>9.600000</td>\n",
       "      <td>82.530000</td>\n",
       "    </tr>\n",
       "  </tbody>\n",
       "</table>\n",
       "</div>"
      ],
      "text/plain": [
       "       Critic_Score   User_Score  Global_Sales\n",
       "count   6894.000000  6894.000000   6894.000000\n",
       "mean      70.258486     7.184378      0.771487\n",
       "std       13.861082     1.439806      1.954780\n",
       "min       13.000000     0.500000      0.010000\n",
       "25%       62.000000     6.500000      0.110000\n",
       "50%       72.000000     7.500000      0.290000\n",
       "75%       80.000000     8.200000      0.750000\n",
       "max       98.000000     9.600000     82.530000"
      ]
     },
     "execution_count": 151,
     "metadata": {},
     "output_type": "execute_result"
    }
   ],
   "source": [
    "model_df.info()\n",
    "model_df.describe()"
   ]
  },
  {
   "cell_type": "code",
   "execution_count": 153,
   "id": "49e00e26-5490-4a67-886a-06ee920a8984",
   "metadata": {},
   "outputs": [],
   "source": [
    "# Define features and target\n",
    "X = model_df[[\"Critic_Score\", \"User_Score\"]]\n",
    "y = model_df[\"Global_Sales\"]"
   ]
  },
  {
   "cell_type": "markdown",
   "id": "5d1c98f2-26e2-4d49-a857-52799b97b3cc",
   "metadata": {},
   "source": [
    "Critic score tells us how well the game critics rated the game. \n",
    "\n",
    "User Score how well  how well players rated it."
   ]
  },
  {
   "cell_type": "markdown",
   "id": "bfb4cfad-ed36-45f6-93c4-92d994d7a4f2",
   "metadata": {},
   "source": [
    "## Linear Regression"
   ]
  },
  {
   "cell_type": "code",
   "execution_count": 157,
   "id": "24a3fef1-9da6-4160-a201-6cf70bf600bf",
   "metadata": {},
   "outputs": [],
   "source": [
    "from sklearn.model_selection import train_test_split\n",
    "\n",
    "# Split the data 80%/20%\n",
    "X_train, X_test, y_train, y_test = train_test_split(X, y, test_size=0.2, random_state=42)"
   ]
  },
  {
   "cell_type": "code",
   "execution_count": 172,
   "id": "30dbaa9a-3a35-4e56-8c03-d5f338a22471",
   "metadata": {},
   "outputs": [],
   "source": [
    "from sklearn.linear_model import LinearRegression\n",
    "\n",
    "#create the model\n",
    "lr = LinearRegression()\n",
    "lr.fit(X_train, y_train)\n",
    "\n",
    "y_pred_lr = lr.predict(X_test)"
   ]
  },
  {
   "cell_type": "code",
   "execution_count": 165,
   "id": "5a5f3c20-4826-4d5a-ab29-6327f8a34327",
   "metadata": {},
   "outputs": [
    {
     "name": "stdout",
     "output_type": "stream",
     "text": [
      "[1.31270021 0.92415812 0.4487316  0.79879865 0.73238591]\n",
      "[1.13 0.05 0.83 0.42 0.02]\n"
     ]
    }
   ],
   "source": [
    "#might delete this one\n",
    "print(y_pred_lr[:5])\n",
    "print(y_test[:5].values)"
   ]
  },
  {
   "cell_type": "markdown",
   "id": "4a1d053b-946f-43b9-85d2-5929f46a817e",
   "metadata": {},
   "source": [
    "## Random Forest "
   ]
  },
  {
   "cell_type": "code",
   "execution_count": 170,
   "id": "77af9548-7f03-4aeb-9286-70f3a9772c51",
   "metadata": {},
   "outputs": [],
   "source": [
    "from sklearn.ensemble import RandomForestRegressor\n",
    "\n",
    "# Create the model\n",
    "rf = RandomForestRegressor(random_state=42)\n",
    "rf.fit(X_train, y_train)\n",
    "\n",
    "# Predict on test set\n",
    "y_pred_rf = rf.predict(X_test)"
   ]
  },
  {
   "cell_type": "code",
   "execution_count": 174,
   "id": "ed01a7cd-bea0-48ba-b780-fd9c744cd510",
   "metadata": {},
   "outputs": [
    {
     "name": "stdout",
     "output_type": "stream",
     "text": [
      "[0.96261214 1.13107333 0.20248333 0.21584722 0.52320107]\n",
      "[1.13 0.05 0.83 0.42 0.02]\n"
     ]
    }
   ],
   "source": [
    "print(y_pred_rf[:5])\n",
    "print(y_test[:5].values)"
   ]
  },
  {
   "cell_type": "markdown",
   "id": "9f4064f2-f297-4fba-8ce4-fe8b0bc0d442",
   "metadata": {},
   "source": [
    "### Model Evaluation "
   ]
  },
  {
   "cell_type": "code",
   "execution_count": 177,
   "id": "c83cad03-3345-47f0-a995-866cf1e4e05a",
   "metadata": {},
   "outputs": [],
   "source": [
    "from sklearn.metrics import mean_absolute_error, mean_squared_error, r2_score\n",
    "import numpy as np\n",
    "\n",
    "def evaluate_model(name, y_true, y_pred):\n",
    "    print(f\"\\n{name} Evaluation:\")\n",
    "    print(\"MAE :\", round(mean_absolute_error(y_true, y_pred), 2))\n",
    "    print(\"RMSE:\", round(np.sqrt(mean_squared_error(y_true, y_pred)), 2))\n",
    "    print(\"R²   :\", round(r2_score(y_true, y_pred), 2))"
   ]
  },
  {
   "cell_type": "code",
   "execution_count": 179,
   "id": "dc5a1ede-68eb-4b50-a9c8-6b0921958602",
   "metadata": {},
   "outputs": [
    {
     "name": "stdout",
     "output_type": "stream",
     "text": [
      "\n",
      "Linear Regression Evaluation:\n",
      "MAE : 0.78\n",
      "RMSE: 1.56\n",
      "R²   : 0.1\n",
      "\n",
      "Random Forest Evaluation:\n",
      "MAE : 0.75\n",
      "RMSE: 1.56\n",
      "R²   : 0.11\n"
     ]
    }
   ],
   "source": [
    "#Evalute how both model perform \n",
    "evaluate_model(\"Linear Regression\", y_test, y_pred_lr)\n",
    "evaluate_model(\"Random Forest\", y_test, y_pred_rf)"
   ]
  },
  {
   "cell_type": "markdown",
   "id": "1641f7ef-348a-4aa9-8812-69ea0bb2155d",
   "metadata": {},
   "source": [
    "We tested two models using only critic and user scores as predictors. While the absolute prediction error (MAE ~0.75) was acceptable, the models explained only ~10% of the variance in global sales (R² ~0.10). This suggests that other factors likely influence sales and should be included in a future version of the model."
   ]
  },
  {
   "cell_type": "markdown",
   "id": "2b786ce9-772e-4c7a-9f6b-8b9e65b0a175",
   "metadata": {},
   "source": [
    "So let's add more feature to our model "
   ]
  },
  {
   "cell_type": "code",
   "execution_count": 183,
   "id": "0b635d2f-d89a-4c12-8879-bd9a18ead5d6",
   "metadata": {},
   "outputs": [],
   "source": [
    "#Select other features\n",
    "features_df = df[[\"Critic_Score\", \"User_Score\", \"Genre\", \"Platform\", \"Year_of_Release\", \"Global_Sales\"]].dropna()\n",
    "\n",
    "#encod categorical variables\n",
    "features_encoded = pd.get_dummies(features_df, columns=[\"Genre\", \"Platform\"], drop_first=True)"
   ]
  },
  {
   "cell_type": "code",
   "execution_count": 185,
   "id": "d0b660ba-5e0f-4ae1-9469-41f41eac70c6",
   "metadata": {},
   "outputs": [],
   "source": [
    "X = features_encoded.drop(\"Global_Sales\", axis=1)\n",
    "y = features_encoded[\"Global_Sales\"]"
   ]
  },
  {
   "cell_type": "code",
   "execution_count": 187,
   "id": "634d6cd1-084c-46d3-9b86-6a8bcf49a0e6",
   "metadata": {},
   "outputs": [],
   "source": [
    "# Split updated data\n",
    "X_train, X_test, y_train, y_test = train_test_split(X, y, test_size=0.2, random_state=42)"
   ]
  },
  {
   "cell_type": "markdown",
   "id": "d326be87-155f-4519-9448-e277e211229f",
   "metadata": {},
   "source": [
    "### re-train linear regression "
   ]
  },
  {
   "cell_type": "code",
   "execution_count": 191,
   "id": "49555892-1bd1-4e01-aba3-6f4df8f4dc2d",
   "metadata": {},
   "outputs": [],
   "source": [
    "lr = LinearRegression()\n",
    "lr.fit(X_train, y_train)\n",
    "y_pred_lr = lr.predict(X_test) "
   ]
  },
  {
   "cell_type": "markdown",
   "id": "851bf686-5e68-41af-942f-046139ef1ec7",
   "metadata": {},
   "source": [
    "### Re train Random Forest "
   ]
  },
  {
   "cell_type": "code",
   "execution_count": 194,
   "id": "655f73a5-0c07-4ee5-bd23-1f5066a528e1",
   "metadata": {},
   "outputs": [],
   "source": [
    "rf = RandomForestRegressor(random_state=42)\n",
    "rf.fit(X_train, y_train)\n",
    "y_pred_rf = rf.predict(X_test)"
   ]
  },
  {
   "cell_type": "code",
   "execution_count": 196,
   "id": "d015680c-f7bd-4add-8b64-add9b3e8ca50",
   "metadata": {},
   "outputs": [
    {
     "name": "stdout",
     "output_type": "stream",
     "text": [
      "\n",
      "Linear Regression Evaluation:\n",
      "MAE : 0.77\n",
      "RMSE: 1.51\n",
      "R²   : 0.16\n",
      "\n",
      "Random Forest Evaluation:\n",
      "MAE : 0.68\n",
      "RMSE: 1.76\n",
      "R²   : -0.15\n"
     ]
    }
   ],
   "source": [
    "#Evaluate how both model perform \n",
    "evaluate_model(\"Linear Regression\", y_test, y_pred_lr)\n",
    "evaluate_model(\"Random Forest\", y_test, y_pred_rf)"
   ]
  },
  {
   "cell_type": "markdown",
   "id": "043484f8-0a72-4116-bdd5-309cfc4b074e",
   "metadata": {},
   "source": [
    "The linear regression model slightly improved with the addition of categorical features like Genre and Platform, showing a modest gain in R² (0.16). However, the Random Forest model did not generalize well and performed worse than expected, likely due to overfitting. Further tuning or feature engineering may help, but for now, linear regression provides the most stable results."
   ]
  },
  {
   "cell_type": "markdown",
   "id": "d5e4b968-55af-427f-817a-963212ae2bd1",
   "metadata": {},
   "source": [
    "### Random Forest Tuning using Grid Search "
   ]
  },
  {
   "cell_type": "code",
   "execution_count": 202,
   "id": "aef1451d-df89-4d31-b9d2-977e1f021a08",
   "metadata": {},
   "outputs": [
    {
     "name": "stdout",
     "output_type": "stream",
     "text": [
      "Fitting 3 folds for each of 54 candidates, totalling 162 fits\n"
     ]
    },
    {
     "data": {
      "text/html": [
       "<style>#sk-container-id-1 {\n",
       "  /* Definition of color scheme common for light and dark mode */\n",
       "  --sklearn-color-text: black;\n",
       "  --sklearn-color-line: gray;\n",
       "  /* Definition of color scheme for unfitted estimators */\n",
       "  --sklearn-color-unfitted-level-0: #fff5e6;\n",
       "  --sklearn-color-unfitted-level-1: #f6e4d2;\n",
       "  --sklearn-color-unfitted-level-2: #ffe0b3;\n",
       "  --sklearn-color-unfitted-level-3: chocolate;\n",
       "  /* Definition of color scheme for fitted estimators */\n",
       "  --sklearn-color-fitted-level-0: #f0f8ff;\n",
       "  --sklearn-color-fitted-level-1: #d4ebff;\n",
       "  --sklearn-color-fitted-level-2: #b3dbfd;\n",
       "  --sklearn-color-fitted-level-3: cornflowerblue;\n",
       "\n",
       "  /* Specific color for light theme */\n",
       "  --sklearn-color-text-on-default-background: var(--sg-text-color, var(--theme-code-foreground, var(--jp-content-font-color1, black)));\n",
       "  --sklearn-color-background: var(--sg-background-color, var(--theme-background, var(--jp-layout-color0, white)));\n",
       "  --sklearn-color-border-box: var(--sg-text-color, var(--theme-code-foreground, var(--jp-content-font-color1, black)));\n",
       "  --sklearn-color-icon: #696969;\n",
       "\n",
       "  @media (prefers-color-scheme: dark) {\n",
       "    /* Redefinition of color scheme for dark theme */\n",
       "    --sklearn-color-text-on-default-background: var(--sg-text-color, var(--theme-code-foreground, var(--jp-content-font-color1, white)));\n",
       "    --sklearn-color-background: var(--sg-background-color, var(--theme-background, var(--jp-layout-color0, #111)));\n",
       "    --sklearn-color-border-box: var(--sg-text-color, var(--theme-code-foreground, var(--jp-content-font-color1, white)));\n",
       "    --sklearn-color-icon: #878787;\n",
       "  }\n",
       "}\n",
       "\n",
       "#sk-container-id-1 {\n",
       "  color: var(--sklearn-color-text);\n",
       "}\n",
       "\n",
       "#sk-container-id-1 pre {\n",
       "  padding: 0;\n",
       "}\n",
       "\n",
       "#sk-container-id-1 input.sk-hidden--visually {\n",
       "  border: 0;\n",
       "  clip: rect(1px 1px 1px 1px);\n",
       "  clip: rect(1px, 1px, 1px, 1px);\n",
       "  height: 1px;\n",
       "  margin: -1px;\n",
       "  overflow: hidden;\n",
       "  padding: 0;\n",
       "  position: absolute;\n",
       "  width: 1px;\n",
       "}\n",
       "\n",
       "#sk-container-id-1 div.sk-dashed-wrapped {\n",
       "  border: 1px dashed var(--sklearn-color-line);\n",
       "  margin: 0 0.4em 0.5em 0.4em;\n",
       "  box-sizing: border-box;\n",
       "  padding-bottom: 0.4em;\n",
       "  background-color: var(--sklearn-color-background);\n",
       "}\n",
       "\n",
       "#sk-container-id-1 div.sk-container {\n",
       "  /* jupyter's `normalize.less` sets `[hidden] { display: none; }`\n",
       "     but bootstrap.min.css set `[hidden] { display: none !important; }`\n",
       "     so we also need the `!important` here to be able to override the\n",
       "     default hidden behavior on the sphinx rendered scikit-learn.org.\n",
       "     See: https://github.com/scikit-learn/scikit-learn/issues/21755 */\n",
       "  display: inline-block !important;\n",
       "  position: relative;\n",
       "}\n",
       "\n",
       "#sk-container-id-1 div.sk-text-repr-fallback {\n",
       "  display: none;\n",
       "}\n",
       "\n",
       "div.sk-parallel-item,\n",
       "div.sk-serial,\n",
       "div.sk-item {\n",
       "  /* draw centered vertical line to link estimators */\n",
       "  background-image: linear-gradient(var(--sklearn-color-text-on-default-background), var(--sklearn-color-text-on-default-background));\n",
       "  background-size: 2px 100%;\n",
       "  background-repeat: no-repeat;\n",
       "  background-position: center center;\n",
       "}\n",
       "\n",
       "/* Parallel-specific style estimator block */\n",
       "\n",
       "#sk-container-id-1 div.sk-parallel-item::after {\n",
       "  content: \"\";\n",
       "  width: 100%;\n",
       "  border-bottom: 2px solid var(--sklearn-color-text-on-default-background);\n",
       "  flex-grow: 1;\n",
       "}\n",
       "\n",
       "#sk-container-id-1 div.sk-parallel {\n",
       "  display: flex;\n",
       "  align-items: stretch;\n",
       "  justify-content: center;\n",
       "  background-color: var(--sklearn-color-background);\n",
       "  position: relative;\n",
       "}\n",
       "\n",
       "#sk-container-id-1 div.sk-parallel-item {\n",
       "  display: flex;\n",
       "  flex-direction: column;\n",
       "}\n",
       "\n",
       "#sk-container-id-1 div.sk-parallel-item:first-child::after {\n",
       "  align-self: flex-end;\n",
       "  width: 50%;\n",
       "}\n",
       "\n",
       "#sk-container-id-1 div.sk-parallel-item:last-child::after {\n",
       "  align-self: flex-start;\n",
       "  width: 50%;\n",
       "}\n",
       "\n",
       "#sk-container-id-1 div.sk-parallel-item:only-child::after {\n",
       "  width: 0;\n",
       "}\n",
       "\n",
       "/* Serial-specific style estimator block */\n",
       "\n",
       "#sk-container-id-1 div.sk-serial {\n",
       "  display: flex;\n",
       "  flex-direction: column;\n",
       "  align-items: center;\n",
       "  background-color: var(--sklearn-color-background);\n",
       "  padding-right: 1em;\n",
       "  padding-left: 1em;\n",
       "}\n",
       "\n",
       "\n",
       "/* Toggleable style: style used for estimator/Pipeline/ColumnTransformer box that is\n",
       "clickable and can be expanded/collapsed.\n",
       "- Pipeline and ColumnTransformer use this feature and define the default style\n",
       "- Estimators will overwrite some part of the style using the `sk-estimator` class\n",
       "*/\n",
       "\n",
       "/* Pipeline and ColumnTransformer style (default) */\n",
       "\n",
       "#sk-container-id-1 div.sk-toggleable {\n",
       "  /* Default theme specific background. It is overwritten whether we have a\n",
       "  specific estimator or a Pipeline/ColumnTransformer */\n",
       "  background-color: var(--sklearn-color-background);\n",
       "}\n",
       "\n",
       "/* Toggleable label */\n",
       "#sk-container-id-1 label.sk-toggleable__label {\n",
       "  cursor: pointer;\n",
       "  display: block;\n",
       "  width: 100%;\n",
       "  margin-bottom: 0;\n",
       "  padding: 0.5em;\n",
       "  box-sizing: border-box;\n",
       "  text-align: center;\n",
       "}\n",
       "\n",
       "#sk-container-id-1 label.sk-toggleable__label-arrow:before {\n",
       "  /* Arrow on the left of the label */\n",
       "  content: \"▸\";\n",
       "  float: left;\n",
       "  margin-right: 0.25em;\n",
       "  color: var(--sklearn-color-icon);\n",
       "}\n",
       "\n",
       "#sk-container-id-1 label.sk-toggleable__label-arrow:hover:before {\n",
       "  color: var(--sklearn-color-text);\n",
       "}\n",
       "\n",
       "/* Toggleable content - dropdown */\n",
       "\n",
       "#sk-container-id-1 div.sk-toggleable__content {\n",
       "  max-height: 0;\n",
       "  max-width: 0;\n",
       "  overflow: hidden;\n",
       "  text-align: left;\n",
       "  /* unfitted */\n",
       "  background-color: var(--sklearn-color-unfitted-level-0);\n",
       "}\n",
       "\n",
       "#sk-container-id-1 div.sk-toggleable__content.fitted {\n",
       "  /* fitted */\n",
       "  background-color: var(--sklearn-color-fitted-level-0);\n",
       "}\n",
       "\n",
       "#sk-container-id-1 div.sk-toggleable__content pre {\n",
       "  margin: 0.2em;\n",
       "  border-radius: 0.25em;\n",
       "  color: var(--sklearn-color-text);\n",
       "  /* unfitted */\n",
       "  background-color: var(--sklearn-color-unfitted-level-0);\n",
       "}\n",
       "\n",
       "#sk-container-id-1 div.sk-toggleable__content.fitted pre {\n",
       "  /* unfitted */\n",
       "  background-color: var(--sklearn-color-fitted-level-0);\n",
       "}\n",
       "\n",
       "#sk-container-id-1 input.sk-toggleable__control:checked~div.sk-toggleable__content {\n",
       "  /* Expand drop-down */\n",
       "  max-height: 200px;\n",
       "  max-width: 100%;\n",
       "  overflow: auto;\n",
       "}\n",
       "\n",
       "#sk-container-id-1 input.sk-toggleable__control:checked~label.sk-toggleable__label-arrow:before {\n",
       "  content: \"▾\";\n",
       "}\n",
       "\n",
       "/* Pipeline/ColumnTransformer-specific style */\n",
       "\n",
       "#sk-container-id-1 div.sk-label input.sk-toggleable__control:checked~label.sk-toggleable__label {\n",
       "  color: var(--sklearn-color-text);\n",
       "  background-color: var(--sklearn-color-unfitted-level-2);\n",
       "}\n",
       "\n",
       "#sk-container-id-1 div.sk-label.fitted input.sk-toggleable__control:checked~label.sk-toggleable__label {\n",
       "  background-color: var(--sklearn-color-fitted-level-2);\n",
       "}\n",
       "\n",
       "/* Estimator-specific style */\n",
       "\n",
       "/* Colorize estimator box */\n",
       "#sk-container-id-1 div.sk-estimator input.sk-toggleable__control:checked~label.sk-toggleable__label {\n",
       "  /* unfitted */\n",
       "  background-color: var(--sklearn-color-unfitted-level-2);\n",
       "}\n",
       "\n",
       "#sk-container-id-1 div.sk-estimator.fitted input.sk-toggleable__control:checked~label.sk-toggleable__label {\n",
       "  /* fitted */\n",
       "  background-color: var(--sklearn-color-fitted-level-2);\n",
       "}\n",
       "\n",
       "#sk-container-id-1 div.sk-label label.sk-toggleable__label,\n",
       "#sk-container-id-1 div.sk-label label {\n",
       "  /* The background is the default theme color */\n",
       "  color: var(--sklearn-color-text-on-default-background);\n",
       "}\n",
       "\n",
       "/* On hover, darken the color of the background */\n",
       "#sk-container-id-1 div.sk-label:hover label.sk-toggleable__label {\n",
       "  color: var(--sklearn-color-text);\n",
       "  background-color: var(--sklearn-color-unfitted-level-2);\n",
       "}\n",
       "\n",
       "/* Label box, darken color on hover, fitted */\n",
       "#sk-container-id-1 div.sk-label.fitted:hover label.sk-toggleable__label.fitted {\n",
       "  color: var(--sklearn-color-text);\n",
       "  background-color: var(--sklearn-color-fitted-level-2);\n",
       "}\n",
       "\n",
       "/* Estimator label */\n",
       "\n",
       "#sk-container-id-1 div.sk-label label {\n",
       "  font-family: monospace;\n",
       "  font-weight: bold;\n",
       "  display: inline-block;\n",
       "  line-height: 1.2em;\n",
       "}\n",
       "\n",
       "#sk-container-id-1 div.sk-label-container {\n",
       "  text-align: center;\n",
       "}\n",
       "\n",
       "/* Estimator-specific */\n",
       "#sk-container-id-1 div.sk-estimator {\n",
       "  font-family: monospace;\n",
       "  border: 1px dotted var(--sklearn-color-border-box);\n",
       "  border-radius: 0.25em;\n",
       "  box-sizing: border-box;\n",
       "  margin-bottom: 0.5em;\n",
       "  /* unfitted */\n",
       "  background-color: var(--sklearn-color-unfitted-level-0);\n",
       "}\n",
       "\n",
       "#sk-container-id-1 div.sk-estimator.fitted {\n",
       "  /* fitted */\n",
       "  background-color: var(--sklearn-color-fitted-level-0);\n",
       "}\n",
       "\n",
       "/* on hover */\n",
       "#sk-container-id-1 div.sk-estimator:hover {\n",
       "  /* unfitted */\n",
       "  background-color: var(--sklearn-color-unfitted-level-2);\n",
       "}\n",
       "\n",
       "#sk-container-id-1 div.sk-estimator.fitted:hover {\n",
       "  /* fitted */\n",
       "  background-color: var(--sklearn-color-fitted-level-2);\n",
       "}\n",
       "\n",
       "/* Specification for estimator info (e.g. \"i\" and \"?\") */\n",
       "\n",
       "/* Common style for \"i\" and \"?\" */\n",
       "\n",
       ".sk-estimator-doc-link,\n",
       "a:link.sk-estimator-doc-link,\n",
       "a:visited.sk-estimator-doc-link {\n",
       "  float: right;\n",
       "  font-size: smaller;\n",
       "  line-height: 1em;\n",
       "  font-family: monospace;\n",
       "  background-color: var(--sklearn-color-background);\n",
       "  border-radius: 1em;\n",
       "  height: 1em;\n",
       "  width: 1em;\n",
       "  text-decoration: none !important;\n",
       "  margin-left: 1ex;\n",
       "  /* unfitted */\n",
       "  border: var(--sklearn-color-unfitted-level-1) 1pt solid;\n",
       "  color: var(--sklearn-color-unfitted-level-1);\n",
       "}\n",
       "\n",
       ".sk-estimator-doc-link.fitted,\n",
       "a:link.sk-estimator-doc-link.fitted,\n",
       "a:visited.sk-estimator-doc-link.fitted {\n",
       "  /* fitted */\n",
       "  border: var(--sklearn-color-fitted-level-1) 1pt solid;\n",
       "  color: var(--sklearn-color-fitted-level-1);\n",
       "}\n",
       "\n",
       "/* On hover */\n",
       "div.sk-estimator:hover .sk-estimator-doc-link:hover,\n",
       ".sk-estimator-doc-link:hover,\n",
       "div.sk-label-container:hover .sk-estimator-doc-link:hover,\n",
       ".sk-estimator-doc-link:hover {\n",
       "  /* unfitted */\n",
       "  background-color: var(--sklearn-color-unfitted-level-3);\n",
       "  color: var(--sklearn-color-background);\n",
       "  text-decoration: none;\n",
       "}\n",
       "\n",
       "div.sk-estimator.fitted:hover .sk-estimator-doc-link.fitted:hover,\n",
       ".sk-estimator-doc-link.fitted:hover,\n",
       "div.sk-label-container:hover .sk-estimator-doc-link.fitted:hover,\n",
       ".sk-estimator-doc-link.fitted:hover {\n",
       "  /* fitted */\n",
       "  background-color: var(--sklearn-color-fitted-level-3);\n",
       "  color: var(--sklearn-color-background);\n",
       "  text-decoration: none;\n",
       "}\n",
       "\n",
       "/* Span, style for the box shown on hovering the info icon */\n",
       ".sk-estimator-doc-link span {\n",
       "  display: none;\n",
       "  z-index: 9999;\n",
       "  position: relative;\n",
       "  font-weight: normal;\n",
       "  right: .2ex;\n",
       "  padding: .5ex;\n",
       "  margin: .5ex;\n",
       "  width: min-content;\n",
       "  min-width: 20ex;\n",
       "  max-width: 50ex;\n",
       "  color: var(--sklearn-color-text);\n",
       "  box-shadow: 2pt 2pt 4pt #999;\n",
       "  /* unfitted */\n",
       "  background: var(--sklearn-color-unfitted-level-0);\n",
       "  border: .5pt solid var(--sklearn-color-unfitted-level-3);\n",
       "}\n",
       "\n",
       ".sk-estimator-doc-link.fitted span {\n",
       "  /* fitted */\n",
       "  background: var(--sklearn-color-fitted-level-0);\n",
       "  border: var(--sklearn-color-fitted-level-3);\n",
       "}\n",
       "\n",
       ".sk-estimator-doc-link:hover span {\n",
       "  display: block;\n",
       "}\n",
       "\n",
       "/* \"?\"-specific style due to the `<a>` HTML tag */\n",
       "\n",
       "#sk-container-id-1 a.estimator_doc_link {\n",
       "  float: right;\n",
       "  font-size: 1rem;\n",
       "  line-height: 1em;\n",
       "  font-family: monospace;\n",
       "  background-color: var(--sklearn-color-background);\n",
       "  border-radius: 1rem;\n",
       "  height: 1rem;\n",
       "  width: 1rem;\n",
       "  text-decoration: none;\n",
       "  /* unfitted */\n",
       "  color: var(--sklearn-color-unfitted-level-1);\n",
       "  border: var(--sklearn-color-unfitted-level-1) 1pt solid;\n",
       "}\n",
       "\n",
       "#sk-container-id-1 a.estimator_doc_link.fitted {\n",
       "  /* fitted */\n",
       "  border: var(--sklearn-color-fitted-level-1) 1pt solid;\n",
       "  color: var(--sklearn-color-fitted-level-1);\n",
       "}\n",
       "\n",
       "/* On hover */\n",
       "#sk-container-id-1 a.estimator_doc_link:hover {\n",
       "  /* unfitted */\n",
       "  background-color: var(--sklearn-color-unfitted-level-3);\n",
       "  color: var(--sklearn-color-background);\n",
       "  text-decoration: none;\n",
       "}\n",
       "\n",
       "#sk-container-id-1 a.estimator_doc_link.fitted:hover {\n",
       "  /* fitted */\n",
       "  background-color: var(--sklearn-color-fitted-level-3);\n",
       "}\n",
       "</style><div id=\"sk-container-id-1\" class=\"sk-top-container\"><div class=\"sk-text-repr-fallback\"><pre>GridSearchCV(cv=3, estimator=RandomForestRegressor(random_state=42), n_jobs=-1,\n",
       "             param_grid={&#x27;max_depth&#x27;: [5, 10, 15],\n",
       "                         &#x27;min_samples_leaf&#x27;: [1, 3, 5],\n",
       "                         &#x27;min_samples_split&#x27;: [2, 5, 10],\n",
       "                         &#x27;n_estimators&#x27;: [50, 100]},\n",
       "             scoring=&#x27;r2&#x27;, verbose=1)</pre><b>In a Jupyter environment, please rerun this cell to show the HTML representation or trust the notebook. <br />On GitHub, the HTML representation is unable to render, please try loading this page with nbviewer.org.</b></div><div class=\"sk-container\" hidden><div class=\"sk-item sk-dashed-wrapped\"><div class=\"sk-label-container\"><div class=\"sk-label fitted sk-toggleable\"><input class=\"sk-toggleable__control sk-hidden--visually\" id=\"sk-estimator-id-1\" type=\"checkbox\" ><label for=\"sk-estimator-id-1\" class=\"sk-toggleable__label fitted sk-toggleable__label-arrow fitted\">&nbsp;&nbsp;GridSearchCV<a class=\"sk-estimator-doc-link fitted\" rel=\"noreferrer\" target=\"_blank\" href=\"https://scikit-learn.org/1.5/modules/generated/sklearn.model_selection.GridSearchCV.html\">?<span>Documentation for GridSearchCV</span></a><span class=\"sk-estimator-doc-link fitted\">i<span>Fitted</span></span></label><div class=\"sk-toggleable__content fitted\"><pre>GridSearchCV(cv=3, estimator=RandomForestRegressor(random_state=42), n_jobs=-1,\n",
       "             param_grid={&#x27;max_depth&#x27;: [5, 10, 15],\n",
       "                         &#x27;min_samples_leaf&#x27;: [1, 3, 5],\n",
       "                         &#x27;min_samples_split&#x27;: [2, 5, 10],\n",
       "                         &#x27;n_estimators&#x27;: [50, 100]},\n",
       "             scoring=&#x27;r2&#x27;, verbose=1)</pre></div> </div></div><div class=\"sk-parallel\"><div class=\"sk-parallel-item\"><div class=\"sk-item\"><div class=\"sk-label-container\"><div class=\"sk-label fitted sk-toggleable\"><input class=\"sk-toggleable__control sk-hidden--visually\" id=\"sk-estimator-id-2\" type=\"checkbox\" ><label for=\"sk-estimator-id-2\" class=\"sk-toggleable__label fitted sk-toggleable__label-arrow fitted\">best_estimator_: RandomForestRegressor</label><div class=\"sk-toggleable__content fitted\"><pre>RandomForestRegressor(max_depth=15, min_samples_leaf=3, min_samples_split=10,\n",
       "                      random_state=42)</pre></div> </div></div><div class=\"sk-serial\"><div class=\"sk-item\"><div class=\"sk-estimator fitted sk-toggleable\"><input class=\"sk-toggleable__control sk-hidden--visually\" id=\"sk-estimator-id-3\" type=\"checkbox\" ><label for=\"sk-estimator-id-3\" class=\"sk-toggleable__label fitted sk-toggleable__label-arrow fitted\">&nbsp;RandomForestRegressor<a class=\"sk-estimator-doc-link fitted\" rel=\"noreferrer\" target=\"_blank\" href=\"https://scikit-learn.org/1.5/modules/generated/sklearn.ensemble.RandomForestRegressor.html\">?<span>Documentation for RandomForestRegressor</span></a></label><div class=\"sk-toggleable__content fitted\"><pre>RandomForestRegressor(max_depth=15, min_samples_leaf=3, min_samples_split=10,\n",
       "                      random_state=42)</pre></div> </div></div></div></div></div></div></div></div></div>"
      ],
      "text/plain": [
       "GridSearchCV(cv=3, estimator=RandomForestRegressor(random_state=42), n_jobs=-1,\n",
       "             param_grid={'max_depth': [5, 10, 15],\n",
       "                         'min_samples_leaf': [1, 3, 5],\n",
       "                         'min_samples_split': [2, 5, 10],\n",
       "                         'n_estimators': [50, 100]},\n",
       "             scoring='r2', verbose=1)"
      ]
     },
     "execution_count": 202,
     "metadata": {},
     "output_type": "execute_result"
    }
   ],
   "source": [
    "# Here we gonna try to find the best parameters for Random Forest Tuning using Grid search CV \n",
    "from sklearn.model_selection import GridSearchCV\n",
    "\n",
    "#grid parameters\n",
    "param_grid = {\n",
    "    'n_estimators': [50, 100],\n",
    "    'max_depth': [5, 10, 15],\n",
    "    'min_samples_split': [2, 5, 10],\n",
    "    'min_samples_leaf': [1, 3, 5]\n",
    "}\n",
    "\n",
    "# Set up the model\n",
    "rf = RandomForestRegressor(random_state=42)\n",
    "\n",
    "#  Grid Search with 3-fold cross-validation\n",
    "grid_search = GridSearchCV(estimator=rf,\n",
    "                           param_grid=param_grid,\n",
    "                           cv=3,\n",
    "                           scoring='r2',\n",
    "                           n_jobs=-1,\n",
    "                           verbose=1)\n",
    "\n",
    "# Fit to training data\n",
    "grid_search.fit(X_train, y_train)"
   ]
  },
  {
   "cell_type": "code",
   "execution_count": 205,
   "id": "dadf86e6-8ef2-4bf4-a69c-0540296a0015",
   "metadata": {},
   "outputs": [
    {
     "name": "stdout",
     "output_type": "stream",
     "text": [
      "Best Parameters: {'max_depth': 15, 'min_samples_leaf': 3, 'min_samples_split': 10, 'n_estimators': 100}\n"
     ]
    }
   ],
   "source": [
    "print(\"Best Parameters:\", grid_search.best_params_)\n",
    "best_rf = grid_search.best_estimator_\n"
   ]
  },
  {
   "cell_type": "code",
   "execution_count": 207,
   "id": "e253b52c-76b9-40dc-8547-205a4d92279c",
   "metadata": {},
   "outputs": [
    {
     "name": "stdout",
     "output_type": "stream",
     "text": [
      "\n",
      "Random Forest (GridSearch) Evaluation:\n",
      "MAE : 0.65\n",
      "RMSE: 1.46\n",
      "R²   : 0.22\n"
     ]
    }
   ],
   "source": [
    "y_pred_best_rf = best_rf.predict(X_test)\n",
    "evaluate_model(\"Random Forest (GridSearch)\", y_test, y_pred_best_rf)"
   ]
  },
  {
   "cell_type": "markdown",
   "id": "1fae88bc-7f86-4c3c-abf5-c001028a76eb",
   "metadata": {},
   "source": [
    "After testing both Linear Regression and Random Forest models, I used GridSearchCV to tune the hyperparameters of the Random Forest. This led to a significant performance improvement : increasing the R² score from 0.11 (default) to 0.22. The final model better captured the variance in video game sales, while maintaining a lower prediction error (MAE = 0.65M)."
   ]
  },
  {
   "cell_type": "markdown",
   "id": "6652cbc4-86c7-4208-a92e-2ad3957f7ac8",
   "metadata": {},
   "source": [
    "Although Im still not satisfied with the models performance, we gonna try with Ridge \n"
   ]
  },
  {
   "cell_type": "markdown",
   "id": "f973fe78-03c3-4242-a2bb-15e3ce2b3429",
   "metadata": {},
   "source": [
    "### Ridge Regression Model "
   ]
  },
  {
   "cell_type": "code",
   "execution_count": 222,
   "id": "9bf86cbc-f4f1-435f-b7f5-9957ccfed2ff",
   "metadata": {},
   "outputs": [
    {
     "name": "stdout",
     "output_type": "stream",
     "text": [
      "Fitting 3 folds for each of 5 candidates, totalling 15 fits\n",
      "Best alpha: {'alpha': 1.0}\n"
     ]
    }
   ],
   "source": [
    "from sklearn.linear_model import Ridge\n",
    "from sklearn.model_selection import GridSearchCV\n",
    "\n",
    "# Parameter to find the best alpha \n",
    "param_grid = {\n",
    "    'alpha': [0.01, 0.1, 1.0, 10.0, 100.0]\n",
    "}\n",
    "\n",
    "# set up the model \n",
    "ridge = Ridge()\n",
    "\n",
    "#Grid Search with cross validation (3 folds\n",
    "grid_ridge = GridSearchCV(estimator=ridge,\n",
    "                          param_grid=param_grid,\n",
    "                          cv=3,\n",
    "                          scoring='r2',\n",
    "                          n_jobs=-1,\n",
    "                          verbose=1)\n",
    "\n",
    "\n",
    "grid_ridge.fit(X_train, y_train)\n",
    "# Best parameters \n",
    "print(\"Best alpha:\", grid_ridge.best_params_)\n",
    "\n",
    "best_ridge = grid_ridge.best_estimator_\n",
    "y_pred_ridge_best = best_ridge.predict(X_test)"
   ]
  },
  {
   "cell_type": "code",
   "execution_count": 224,
   "id": "74a5f1d5-bce5-4d23-9c40-5988b9483895",
   "metadata": {},
   "outputs": [
    {
     "name": "stdout",
     "output_type": "stream",
     "text": [
      "\n",
      "Ridge Regression (GridSearch) Evaluation:\n",
      "MAE : 0.77\n",
      "RMSE: 1.51\n",
      "R²   : 0.16\n"
     ]
    }
   ],
   "source": [
    "#Evaluate the model with best parameters \n",
    "evaluate_model(\"Ridge Regression (GridSearch)\", y_test, y_pred_ridge_best)"
   ]
  },
  {
   "cell_type": "markdown",
   "id": "bfb5788b-04f8-411d-bdc2-3c76237fc9fc",
   "metadata": {},
   "source": [
    "I also tested a Ridge Regression model with regularization to reduce overfitting. Using GridSearchCV, the optimal alpha was 1.0, and the model achieved similar performance to linear regression (R² = 0.16). While it didn’t outperform other models, it offers more robustness and regularization which could help in future feature-rich versions of the model."
   ]
  },
  {
   "cell_type": "markdown",
   "id": "8d5e4fc7-0c34-4f4c-9613-a4f04e5abe94",
   "metadata": {},
   "source": [
    "# Conclusion "
   ]
  },
  {
   "cell_type": "markdown",
   "id": "956db14e-1e71-4332-ac07-e9b5b5d5fe0c",
   "metadata": {},
   "source": [
    "This project explored the \"Video Game Sales\" dataset with the goal of building a predictive model for global sales. We conducted extensive exploratory data analysis (EDA) to understand patterns in video game sales across different genres, platforms, and regions.\n",
    "\n",
    "While the dataset was rich in categorical features and offered great potential for visual insights, it turned out to be better suited for exploratory analysis than for predictive modeling. Key numerical features such as critic and user scores were available for only a portion of the data, and many important drivers of sales (marketing, release timing, franchise popularity, etc.) were missing.\n",
    "\n",
    "Several machine learning models were tested, including:\n",
    "\n",
    "Linear Regression\n",
    "\n",
    "Ridge Regression with regularization\n",
    "\n",
    "Random Forest (tuned with GridSearchCV)\n",
    "\n",
    "\n",
    "Despite efforts to engineer features and optimize model parameters, the best performing model (Random Forest with GridSearchCV) achieved an R² score of only 0.22, indicating that the model explains only 22% of the variance in global sales.\n",
    "\n",
    "In conclusion, this dataset was more valuable as a tool for visual storytelling and business insight than for building a highly predictive machine learning model. It demonstrates the importance of domain context and data quality in predictive modeling."
   ]
  },
  {
   "cell_type": "code",
   "execution_count": null,
   "id": "e79642ff-d7f3-41f1-a5f4-c0933378717b",
   "metadata": {},
   "outputs": [],
   "source": []
  }
 ],
 "metadata": {
  "kernelspec": {
   "display_name": "Python [conda env:base] *",
   "language": "python",
   "name": "conda-base-py"
  },
  "language_info": {
   "codemirror_mode": {
    "name": "ipython",
    "version": 3
   },
   "file_extension": ".py",
   "mimetype": "text/x-python",
   "name": "python",
   "nbconvert_exporter": "python",
   "pygments_lexer": "ipython3",
   "version": "3.12.7"
  }
 },
 "nbformat": 4,
 "nbformat_minor": 5
}
